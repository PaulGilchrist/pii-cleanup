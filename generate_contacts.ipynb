{
 "cells": [
  {
   "cell_type": "code",
   "execution_count": 15,
   "metadata": {},
   "outputs": [
    {
     "name": "stdout",
     "output_type": "stream",
     "text": [
      "Requirement already satisfied: Faker in /Users/paulgilchrist/miniconda3/lib/python3.10/site-packages (17.1.0)\n",
      "Requirement already satisfied: python-dateutil>=2.4 in /Users/paulgilchrist/miniconda3/lib/python3.10/site-packages (from Faker) (2.8.2)\n",
      "Requirement already satisfied: six>=1.5 in /Users/paulgilchrist/miniconda3/lib/python3.10/site-packages (from python-dateutil>=2.4->Faker) (1.16.0)\n",
      "Note: you may need to restart the kernel to use updated packages.\n",
      "Requirement already satisfied: pandas in /Users/paulgilchrist/miniconda3/lib/python3.10/site-packages (1.5.3)\n",
      "Requirement already satisfied: python-dateutil>=2.8.1 in /Users/paulgilchrist/miniconda3/lib/python3.10/site-packages (from pandas) (2.8.2)\n",
      "Requirement already satisfied: numpy>=1.21.0 in /Users/paulgilchrist/miniconda3/lib/python3.10/site-packages (from pandas) (1.24.2)\n",
      "Requirement already satisfied: pytz>=2020.1 in /Users/paulgilchrist/miniconda3/lib/python3.10/site-packages (from pandas) (2022.7.1)\n",
      "Requirement already satisfied: six>=1.5 in /Users/paulgilchrist/miniconda3/lib/python3.10/site-packages (from python-dateutil>=2.8.1->pandas) (1.16.0)\n",
      "Note: you may need to restart the kernel to use updated packages.\n"
     ]
    }
   ],
   "source": [
    "%pip install Faker --no-warn-script-location\n",
    "%pip install pandas\n",
    "from faker import Faker\n",
    "import pandas as pd\n",
    "import random\n",
    "fake = Faker()"
   ]
  },
  {
   "cell_type": "code",
   "execution_count": 16,
   "metadata": {},
   "outputs": [],
   "source": [
    "# These we don't currently need but may in the future\n",
    "city = fake.city()\n",
    "zip = fake.postcode()\n",
    "state_codes = [\"AL\", \"AK\", \"AZ\", \"AR\", \"CA\", \"CO\", \"CT\", \"DE\", \"FL\", \"GA\", \"HI\", \"ID\", \"IL\", \"IN\",\n",
    "            \"IA\", \"KS\", \"KY\", \"LA\", \"ME\", \"MD\", \"MA\", \"MI\", \"MN\", \"MS\", \"MO\", \"MT\", \"NE\", \"NV\",\n",
    "            \"NH\", \"NJ\", \"NM\", \"NY\", \"NC\", \"ND\", \"OH\", \"OK\", \"OR\", \"PA\", \"RI\", \"SC\", \"SD\", \"TN\",\n",
    "            \"TX\", \"UT\", \"VT\", \"VA\", \"WA\", \"WV\", \"WI\", \"WY\"]\n",
    "state = random.choice(state_codes)"
   ]
  },
  {
   "cell_type": "code",
   "execution_count": 17,
   "metadata": {},
   "outputs": [
    {
     "data": {
      "text/html": [
       "<div>\n",
       "<style scoped>\n",
       "    .dataframe tbody tr th:only-of-type {\n",
       "        vertical-align: middle;\n",
       "    }\n",
       "\n",
       "    .dataframe tbody tr th {\n",
       "        vertical-align: top;\n",
       "    }\n",
       "\n",
       "    .dataframe thead th {\n",
       "        text-align: right;\n",
       "    }\n",
       "</style>\n",
       "<table border=\"1\" class=\"dataframe\">\n",
       "  <thead>\n",
       "    <tr style=\"text-align: right;\">\n",
       "      <th></th>\n",
       "      <th>first_name</th>\n",
       "      <th>last_name</th>\n",
       "      <th>email</th>\n",
       "      <th>phone_number</th>\n",
       "      <th>street</th>\n",
       "    </tr>\n",
       "  </thead>\n",
       "  <tbody>\n",
       "    <tr>\n",
       "      <th>0</th>\n",
       "      <td>Laura</td>\n",
       "      <td>Kelley</td>\n",
       "      <td>laura.kelley@snow.com</td>\n",
       "      <td>(332) 494-6976</td>\n",
       "      <td>68118 Nathaniel Camp Suite 955</td>\n",
       "    </tr>\n",
       "    <tr>\n",
       "      <th>1</th>\n",
       "      <td>Jose</td>\n",
       "      <td>Cummings</td>\n",
       "      <td>jose.cummings@obrien-mullins.com</td>\n",
       "      <td>(343) 290-3825</td>\n",
       "      <td>863 Ellison Isle Suite 879</td>\n",
       "    </tr>\n",
       "    <tr>\n",
       "      <th>2</th>\n",
       "      <td>Jeffrey</td>\n",
       "      <td>Parks</td>\n",
       "      <td>jeffrey.parks@vance-duffy.info</td>\n",
       "      <td>(855) 763-4692</td>\n",
       "      <td>7787 Vincent Mountain Apt. 878</td>\n",
       "    </tr>\n",
       "    <tr>\n",
       "      <th>3</th>\n",
       "      <td>Devin</td>\n",
       "      <td>Chavez</td>\n",
       "      <td>devin.chavez@fox.biz</td>\n",
       "      <td>(187) 332-5594</td>\n",
       "      <td>0407 Avila Gateway</td>\n",
       "    </tr>\n",
       "    <tr>\n",
       "      <th>4</th>\n",
       "      <td>Joseph</td>\n",
       "      <td>Townsend</td>\n",
       "      <td>joseph.townsend@robinson-williams.com</td>\n",
       "      <td>(623) 241-7379</td>\n",
       "      <td>916 Ashley Unions Apt. 118</td>\n",
       "    </tr>\n",
       "  </tbody>\n",
       "</table>\n",
       "</div>"
      ],
      "text/plain": [
       "  first_name last_name                                  email    phone_number  \\\n",
       "0      Laura    Kelley                  laura.kelley@snow.com  (332) 494-6976   \n",
       "1       Jose  Cummings       jose.cummings@obrien-mullins.com  (343) 290-3825   \n",
       "2    Jeffrey     Parks         jeffrey.parks@vance-duffy.info  (855) 763-4692   \n",
       "3      Devin    Chavez                   devin.chavez@fox.biz  (187) 332-5594   \n",
       "4     Joseph  Townsend  joseph.townsend@robinson-williams.com  (623) 241-7379   \n",
       "\n",
       "                           street  \n",
       "0  68118 Nathaniel Camp Suite 955  \n",
       "1      863 Ellison Isle Suite 879  \n",
       "2  7787 Vincent Mountain Apt. 878  \n",
       "3              0407 Avila Gateway  \n",
       "4      916 Ashley Unions Apt. 118  "
      ]
     },
     "execution_count": 17,
     "metadata": {},
     "output_type": "execute_result"
    }
   ],
   "source": [
    "# return a dataframe with n number of random users\n",
    "records = 1000\n",
    "output_data = {\n",
    "    \"first_name\": [],\n",
    "    \"last_name\": [],\n",
    "    \"email\": [],\n",
    "    \"phone_number\": [],\n",
    "    \"street\": []\n",
    "}\n",
    "for _ in range(records):\n",
    "    # Generate fake data\n",
    "    first_name = fake.first_name()\n",
    "    last_name = fake.last_name()\n",
    "    company = fake.domain_name()\n",
    "    email = f'{first_name.lower()}.{last_name.lower()}@{company}'\n",
    "    street = fake.street_address()\n",
    "    phone_number = f'({random.randint(100, 999)}) {random.randint(100, 999)}-{random.randint(1000, 9999)}'\n",
    "    # Add data to output_data lists\n",
    "    output_data[\"first_name\"].append(first_name)\n",
    "    output_data[\"last_name\"].append(last_name)\n",
    "    output_data[\"email\"].append(email)\n",
    "    output_data[\"street\"].append(street)\n",
    "    output_data[\"phone_number\"].append(phone_number)\n",
    "output_dataframe = pd.DataFrame(output_data)\n",
    "output_dataframe.head()"
   ]
  }
 ],
 "metadata": {
  "kernelspec": {
   "display_name": "base",
   "language": "python",
   "name": "python3"
  },
  "language_info": {
   "codemirror_mode": {
    "name": "ipython",
    "version": 3
   },
   "file_extension": ".py",
   "mimetype": "text/x-python",
   "name": "python",
   "nbconvert_exporter": "python",
   "pygments_lexer": "ipython3",
   "version": "3.10.8"
  },
  "orig_nbformat": 4,
  "vscode": {
   "interpreter": {
    "hash": "411f3f150035de440886c1aa5152b7a0afb2ab2d66c6bd7924aa8973985b1541"
   }
  }
 },
 "nbformat": 4,
 "nbformat_minor": 2
}
